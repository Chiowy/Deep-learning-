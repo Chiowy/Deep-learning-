{
 "cells": [
  {
   "cell_type": "markdown",
   "source": [
    "# 回归vs分类\n",
    "- 回归估计一个连续值\n",
    "- 分类、预测一个离散类别\n",
    "# 从回归到多类分类\n",
    "- 对类别进行一位有效编码（one-hot vector）\n",
    "- 使用均方损失训练\n",
    "- 最大值为预测\n",
    "- 需要更置信的识别正确类（大余量）正确类的置信度要远大于非正确类的置信度\n",
    "# 从回归到多类分类 - 校验比例\n",
    "- 输出匹配概率 $\\hat{y} = softmax(\\boldsymbol(o)$ (非负，和为1)\n",
    "- 概率$y$和$\\hat{y}$的交叉熵作为损失\n",
    "- 我们不关心非正确类的预测值，只关心对正确类的置信度是否够大\n",
    "- loss的梯度就是预测概率-真实概率"
   ],
   "metadata": {
    "collapsed": false,
    "pycharm": {
     "name": "#%% md\n"
    }
   }
  },
  {
   "cell_type": "code",
   "execution_count": null,
   "outputs": [],
   "source": [],
   "metadata": {
    "collapsed": false,
    "pycharm": {
     "name": "#%%\n"
    }
   }
  }
 ],
 "metadata": {
  "kernelspec": {
   "display_name": "Python 3",
   "language": "python",
   "name": "python3"
  },
  "language_info": {
   "codemirror_mode": {
    "name": "ipython",
    "version": 2
   },
   "file_extension": ".py",
   "mimetype": "text/x-python",
   "name": "python",
   "nbconvert_exporter": "python",
   "pygments_lexer": "ipython2",
   "version": "2.7.6"
  }
 },
 "nbformat": 4,
 "nbformat_minor": 0
}