{
 "cells": [
  {
   "cell_type": "code",
   "execution_count": 17,
   "outputs": [],
   "source": [
    "%matplotlib inline\n",
    "import random\n",
    "import torch\n"
   ],
   "metadata": {
    "collapsed": false,
    "pycharm": {
     "name": "#%%\n"
    }
   }
  },
  {
   "cell_type": "markdown",
   "source": [
    "从上帝视角构造一个线性模型参数：$ \\boldsymbol{w} = [2, -3.4]^T、b = 4.2 $ 和噪声项$ \\epsilon $生成数据集及其标签：\n",
    "$$\n",
    "\\boldsymbol{y} = \\boldsymbol{X}\\boldsymbol{w} + b + \\epsilon\n",
    "$$"
   ],
   "metadata": {
    "collapsed": false,
    "pycharm": {
     "name": "#%% md\n"
    }
   }
  },
  {
   "cell_type": "code",
   "execution_count": 18,
   "outputs": [],
   "source": [
    "def synthetic_data(w, b, num_of_examples):\n",
    "    \"\"\"\n",
    "    生成 y = Xx + b + 噪声\n",
    "    :param num_of_examples:\n",
    "    :param w: 真实的权重\n",
    "    :param b: 真实的偏差\n",
    "    :return: 数据集features，标签label\n",
    "    \"\"\"\n",
    "    X = torch.normal(0, 1, (num_of_examples, len(w)))\n",
    "    y = torch.matmul(X, w) + b\n",
    "    y += torch.normal(0, 0.01, y.shape)\n",
    "    return X, y.reshape((-1, 1))\n",
    "\n",
    "true_w = torch.tensor([2, -3.4])\n",
    "true_b = 4.2\n",
    "features, labels = synthetic_data(true_w, true_b, 1000)\n"
   ],
   "metadata": {
    "collapsed": false,
    "pycharm": {
     "name": "#%%\n"
    }
   }
  },
  {
   "cell_type": "code",
   "execution_count": 19,
   "outputs": [
    {
     "name": "stdout",
     "output_type": "stream",
     "text": [
      "tensor([[ 0.1424,  1.1193],\n",
      "        [ 0.5143, -1.8629],\n",
      "        [-0.8848,  1.1094],\n",
      "        [-0.7371,  0.6283],\n",
      "        [-0.2826,  0.0687],\n",
      "        [-1.6677,  0.7053],\n",
      "        [-0.0662,  0.6246],\n",
      "        [ 2.0205,  0.3608],\n",
      "        [-1.1036,  1.4053],\n",
      "        [ 0.6683, -0.0991]]) \n",
      " tensor([[ 0.6868],\n",
      "        [11.5447],\n",
      "        [-1.3409],\n",
      "        [ 0.5956],\n",
      "        [ 3.3938],\n",
      "        [-1.5304],\n",
      "        [ 1.9544],\n",
      "        [ 7.0125],\n",
      "        [-2.7790],\n",
      "        [ 5.8622]])\n"
     ]
    }
   ],
   "source": [
    "def data_iter(batch_size, features, labels):\n",
    "    \"\"\"\n",
    "    该函数接收批量大小、特征矩阵、标签向量作为输入，生成大小为batch_size的小批量\n",
    "    :param batch_size: 批量的大小b\n",
    "    :param features: 特征矩阵\n",
    "    :param labels: 标签向量\n",
    "    :return: 数据集features，标签label\n",
    "    \"\"\"\n",
    "    num_of_examples = len(features)  # 样本的总数量\n",
    "    indices = list(range(num_of_examples))  # 对每一个样本建立一个索引，放在一个列表indices里\n",
    "    random.shuffle(indices)  #  打乱样本\n",
    "    for i in range(0, num_of_examples, batch_size):\n",
    "        batch_indices = torch.tensor(\n",
    "            indices[i:min(i + batch_size, num_of_examples)]\n",
    "        )\n",
    "        yield features[batch_indices], labels[batch_indices]\n",
    "\n",
    "batch_size = 10\n",
    "\n",
    "for X, y in data_iter(batch_size, features, labels):\n",
    "    print(X, '\\n', y)\n",
    "    break"
   ],
   "metadata": {
    "collapsed": false,
    "pycharm": {
     "name": "#%%\n"
    }
   }
  },
  {
   "cell_type": "markdown",
   "source": [
    "定义初始化模型参数"
   ],
   "metadata": {
    "collapsed": false,
    "pycharm": {
     "name": "#%% md\n"
    }
   }
  },
  {
   "cell_type": "code",
   "execution_count": 20,
   "outputs": [],
   "source": [
    "w = torch.normal(0, 0.01, size=(2, 1), requires_grad=True)\n",
    "b = torch.zeros(1, requires_grad=True)"
   ],
   "metadata": {
    "collapsed": false,
    "pycharm": {
     "name": "#%%\n"
    }
   }
  },
  {
   "cell_type": "markdown",
   "source": [
    "定义模型"
   ],
   "metadata": {
    "collapsed": false,
    "pycharm": {
     "name": "#%% md\n"
    }
   }
  },
  {
   "cell_type": "code",
   "execution_count": 21,
   "outputs": [],
   "source": [
    "def linreg(X, w, b):\n",
    "    \"\"\"\n",
    "    线性回归模型\n",
    "    :param X: 特征矩阵\n",
    "    :param w: 权重\n",
    "    :param b: 偏差\n",
    "    :return: y_hat\n",
    "    \"\"\"\n",
    "    return torch.matmul(X, w) + b"
   ],
   "metadata": {
    "collapsed": false,
    "pycharm": {
     "name": "#%%\n"
    }
   }
  },
  {
   "cell_type": "code",
   "execution_count": 22,
   "outputs": [],
   "source": [
    "def squared_loss(y_hat, y):\n",
    "    \"\"\"\n",
    "    均方损失\n",
    "    :param y_hat: 预估的值\n",
    "    :param y: 实际值\n",
    "    :return: 均方损失\n",
    "    \"\"\"\n",
    "    return (y_hat - y.reshape(y_hat.shape))**2 / 2"
   ],
   "metadata": {
    "collapsed": false,
    "pycharm": {
     "name": "#%%\n"
    }
   }
  },
  {
   "cell_type": "code",
   "execution_count": 23,
   "outputs": [],
   "source": [
    "def sgd(params, lr, batch_size):\n",
    "    \"\"\"\n",
    "    小批量梯度下降\n",
    "    :param params:list，里面包含了w和b\n",
    "    :param lr:学习率\n",
    "    :param batch_size:批量大小\n",
    "    :return:\n",
    "    \"\"\"\n",
    "    with torch.no_grad():  # 更新的时候不要计算梯度\n",
    "        for param in params:\n",
    "            param -= lr * param.grad / batch_size\n",
    "            param.grad.zero_()  # 把梯度设为0，这样下次计算梯度时，不会和上次相关"
   ],
   "metadata": {
    "collapsed": false,
    "pycharm": {
     "name": "#%%\n"
    }
   }
  },
  {
   "cell_type": "markdown",
   "source": [
    "训练过程"
   ],
   "metadata": {
    "collapsed": false,
    "pycharm": {
     "name": "#%% md\n"
    }
   }
  },
  {
   "cell_type": "code",
   "execution_count": 24,
   "outputs": [
    {
     "name": "stdout",
     "output_type": "stream",
     "text": [
      "epoch 1, loss 0.027689\n",
      "epoch 2, loss 0.000093\n",
      "epoch 3, loss 0.000052\n"
     ]
    }
   ],
   "source": [
    "lr = 0.03  # 学习率\n",
    "num_epochs = 3  # 数据集扫三遍\n",
    "net = linreg  # 模型为linreg\n",
    "loss = squared_loss  # 损失\n",
    "\n",
    "for epoch in range(num_epochs):\n",
    "    for X, y in data_iter(batch_size, features, labels):\n",
    "        l = loss(net(X, w, b), y)  # 因为l的形状是（batch_size, 1），而不是一个标量\n",
    "        l.sum().backward()  # l中的所有元素被加到一起,并以此计算关于[w, b]的梯度\n",
    "        sgd([w, b], lr, batch_size)  # 使用参数的梯度更新参数\n",
    "    with torch.no_grad():\n",
    "        train_1 = loss(net(features, w, b), labels)\n",
    "        print(f'epoch {epoch + 1}, loss {float(train_1.mean()):f}')"
   ],
   "metadata": {
    "collapsed": false,
    "pycharm": {
     "name": "#%%\n"
    }
   }
  }
 ],
 "metadata": {
  "interpreter": {
   "hash": "527a93331b4b1a8345148922acc34427fb7591433d63b66d32040b6fbbc6d593"
  },
  "kernelspec": {
   "name": "conda-env-pytorch-py",
   "language": "python",
   "display_name": "Python [conda env:pytorch] *"
  },
  "language_info": {
   "codemirror_mode": {
    "name": "ipython",
    "version": 3
   },
   "file_extension": ".py",
   "mimetype": "text/x-python",
   "name": "python",
   "nbconvert_exporter": "python",
   "pygments_lexer": "ipython3",
   "version": "3.6.13"
  },
  "orig_nbformat": 4
 },
 "nbformat": 4,
 "nbformat_minor": 2
}