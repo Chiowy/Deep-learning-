{
 "cells": [
  {
   "cell_type": "code",
   "execution_count": 5,
   "metadata": {
    "pycharm": {
     "name": "#%%\n"
    }
   },
   "outputs": [],
   "source": [
    "%matplotlib inline\n",
    "import random\n",
    "import torch\n"
   ]
  },
  {
   "cell_type": "markdown",
   "metadata": {
    "pycharm": {
     "name": "#%% md\n"
    }
   },
   "source": [
    "从上帝视角构造一个线性模型参数：$ \\boldsymbol{w} = [2, -3.4]^T、b = 4.2 $ 和噪声项$ \\epsilon $生成数据集及其标签：\n",
    "$$\n",
    "\\boldsymbol{y} = \\boldsymbol{X}\\boldsymbol{w} + b + \\epsilon\n",
    "$$"
   ]
  },
  {
   "cell_type": "code",
   "execution_count": 6,
   "metadata": {
    "pycharm": {
     "name": "#%%\n"
    }
   },
   "outputs": [],
   "source": [
    "def synthetic_data(w, b, num_of_examples):\n",
    "    \"\"\"\n",
    "    生成 y = Xx + b + 噪声\n",
    "    :param num_of_examples:\n",
    "    :param w: 真实的权重\n",
    "    :param b: 真实的偏差\n",
    "    :return: 数据集features，标签label\n",
    "    \"\"\"\n",
    "    X = torch.normal(0, 1, (num_of_examples, len(w)))\n",
    "    y = torch.matmul(X, w) + b\n",
    "    y += torch.normal(0, 0.01, y.shape)\n",
    "    return X, y.reshape((-1, 1))\n",
    "\n",
    "true_w = torch.tensor([2, -3.4])\n",
    "true_b = 4.2\n",
    "features, labels = synthetic_data(true_w, true_b, 1000)\n"
   ]
  },
  {
   "cell_type": "code",
   "execution_count": 7,
   "outputs": [
    {
     "name": "stdout",
     "output_type": "stream",
     "text": [
      "tensor([[ 0.7455,  0.4269],\n",
      "        [-0.8024,  0.3146],\n",
      "        [-0.4798,  0.2780],\n",
      "        [-1.4676,  0.0534],\n",
      "        [-0.3230, -0.9755],\n",
      "        [ 0.4927,  0.9904],\n",
      "        [-0.1850, -0.7086],\n",
      "        [-1.2217, -0.1348],\n",
      "        [ 0.6064,  1.0651],\n",
      "        [ 1.1096, -0.7164]]) \n",
      " tensor([[4.2293],\n",
      "        [1.5239],\n",
      "        [2.2908],\n",
      "        [1.0918],\n",
      "        [6.8707],\n",
      "        [1.8154],\n",
      "        [6.2306],\n",
      "        [2.1976],\n",
      "        [1.8003],\n",
      "        [8.8627]])\n"
     ]
    }
   ],
   "source": [
    "def data_iter(batch_size, features, labels):\n",
    "    \"\"\"\n",
    "    该函数接收批量大小、特征矩阵、标签向量作为输入，生成大小为batch_size的小批量\n",
    "    :param batch_size: 批量的大小b\n",
    "    :param features: 特征矩阵\n",
    "    :param labels: 标签向量\n",
    "    :return: 数据集features，标签label\n",
    "    \"\"\"\n",
    "    num_of_examples = len(features)  # 样本的总数量\n",
    "    indices = list(range(num_of_examples))  # 对每一个样本建立一个索引，放在一个列表indices里\n",
    "    random.shuffle(indices)  #  打乱样本\n",
    "    for i in range(0, num_of_examples, batch_size):\n",
    "        batch_indices = torch.tensor(\n",
    "            indices[i:min(i + batch_size, num_of_examples)]\n",
    "        )\n",
    "        yield features[batch_indices], labels[batch_indices]\n",
    "\n",
    "\n",
    "batch_size = 10\n",
    "\n",
    "for X, y in data_iter(batch_size, features, labels):\n",
    "    print(X, '\\n', y)\n",
    "    break"
   ],
   "metadata": {
    "collapsed": false,
    "pycharm": {
     "name": "#%%\n"
    }
   }
  }
 ],
 "metadata": {
  "interpreter": {
   "hash": "527a93331b4b1a8345148922acc34427fb7591433d63b66d32040b6fbbc6d593"
  },
  "kernelspec": {
   "name": "conda-env-pytorch-py",
   "language": "python",
   "display_name": "Python [conda env:pytorch] *"
  },
  "language_info": {
   "codemirror_mode": {
    "name": "ipython",
    "version": 3
   },
   "file_extension": ".py",
   "mimetype": "text/x-python",
   "name": "python",
   "nbconvert_exporter": "python",
   "pygments_lexer": "ipython3",
   "version": "3.6.13"
  },
  "orig_nbformat": 4
 },
 "nbformat": 4,
 "nbformat_minor": 2
}