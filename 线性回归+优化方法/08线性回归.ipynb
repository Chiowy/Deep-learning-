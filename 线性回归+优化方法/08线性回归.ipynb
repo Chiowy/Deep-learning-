{
 "cells": [
  {
   "cell_type": "markdown",
   "metadata": {
    "pycharm": {
     "name": "#%% md\n"
    }
   },
   "source": [
    "# 简化模型\n",
    "$$y = w_1 x_1 + w_2 x_2 + w_3 x_3 + b$$\n",
    "# 线性模型\n",
    "- given an n dimentional input \n",
    "$$\\boldsymbol{x} = [x_1, x_2, ..., x_n]^T$$\n",
    "- and this module has an n dimentional weight and a bias \n",
    "$$\\boldsymbol{w} = [w_1, w_2, ..., w_n]^T, b$$\n",
    "- output is the weighted sum of input \n",
    "$$y = <\\textbf{w}, \\textbf{x}>+b$$\n",
    "- lineal module can be seen as an one-layer neural network\n",
    "# 衡量预估的质量\n",
    "- 比较真实值和预估的值\n",
    "- 假设$y$是真实值，$\\hat{y}$是预估的值，我们可以比较平方损失\n",
    "- 求解过程就是最小化损失\n",
    "$$ \\textit{l}(y,\\hat{y}) = \\frac{1}{2}(y-\\hat{y})^2  $$\n",
    "# 训练数据\n",
    "$$\\textbf{X} = [\\boldsymbol{x_1},\\boldsymbol{x_2},..., \\boldsymbol{x_n}]^T $$\n",
    "$$\\boldsymbol{y}=[y_1, y_2, ..., y_n]^T$$"
   ]
  },
  {
   "cell_type": "markdown",
   "metadata": {
    "pycharm": {
     "name": "#%% md\n"
    }
   },
   "source": [
    "# 总结\n",
    "- 线性回归是对n维输入的加权，外加偏差\n",
    "- 使用平方损失来衡量预测值和真实值的差异\n",
    "- 线性回归有显示解\n",
    "- 可以看作单层神经网络"
   ]
  }
 ],
 "metadata": {
  "interpreter": {
   "hash": "8df653e618ba3fd8c2d1d12ee66ac05251097a591eed98c317e307306816e7bf"
  },
  "kernelspec": {
   "display_name": "Python 3.6.13 ('pytorch')",
   "language": "python",
   "name": "python3"
  },
  "language_info": {
   "name": "python",
   "version": "3.6.13"
  },
  "orig_nbformat": 4
 },
 "nbformat": 4,
 "nbformat_minor": 2
}